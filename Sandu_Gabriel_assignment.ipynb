{
 "cells": [
  {
   "cell_type": "code",
   "execution_count": 2,
   "metadata": {},
   "outputs": [],
   "source": [
    "import pandas as pd\n",
    "import numpy as np\n",
    "import seaborn as sns\n",
    "import xgboost as xgb\n",
    "from sklearn.svm import SVR\n",
    "import tensorflow as tf\n",
    "import keras\n",
    "from sklearn.metrics import mean_squared_error, r2_score"
   ]
  },
  {
   "cell_type": "markdown",
   "metadata": {},
   "source": [
    "## Data loading and analysis"
   ]
  },
  {
   "cell_type": "code",
   "execution_count": 3,
   "metadata": {},
   "outputs": [],
   "source": [
    "ref = pd.read_json('referate-train.json')"
   ]
  },
  {
   "cell_type": "code",
   "execution_count": 4,
   "metadata": {},
   "outputs": [
    {
     "data": {
      "text/plain": [
       "<AxesSubplot:ylabel='Count'>"
      ]
     },
     "execution_count": 4,
     "metadata": {},
     "output_type": "execute_result"
    },
    {
     "data": {
      "image/png": "[encoded data removed]",
      "text/plain": [
       "<Figure size 432x288 with 1 Axes>"
      ]
     },
     "metadata": {
      "needs_background": "light"
     },
     "output_type": "display_data"
    }
   ],
   "source": [
    "sns.histplot(ref['grade'].values)"
   ]
  },
  {
   "cell_type": "code",
   "execution_count": 5,
   "metadata": {},
   "outputs": [],
   "source": [
    "lengths = [len(x) for x in ref['text'].values]\n",
    "sns.histplot(lengths)"
   ]
  },
  {
   "cell_type": "code",
   "execution_count": 101,
   "metadata": {},
   "outputs": [],
   "source": [
    "train = pd.read_json('referate-train-embeddings.json')\n",
    "X = train['embeddings'].values\n",
    "y = train['grade'].values\n",
    "X = np.array([np.array(x) for x in X])"
   ]
  },
  {
   "cell_type": "code",
   "execution_count": 102,
   "metadata": {},
   "outputs": [],
   "source": [
    "referate_dev = pd.read_json('referate-dev-embeddings.json')\n",
    "X_dev = referate_dev['embeddings'].values\n",
    "y_dev = referate_dev['grade'].values\n",
    "X_dev = np.array([np.array(x) for x in X_dev])"
   ]
  },
  {
   "cell_type": "markdown",
   "metadata": {},
   "source": [
    "## Linear Regression"
   ]
  },
  {
   "cell_type": "code",
   "execution_count": 103,
   "metadata": {},
   "outputs": [
    {
     "data": {
      "text/plain": [
       "LinearRegression(n_jobs=-1, normalize=True)"
      ]
     },
     "execution_count": 103,
     "metadata": {},
     "output_type": "execute_result"
    }
   ],
   "source": [
    "from sklearn.linear_model import LinearRegression\n",
    "lin_reg = LinearRegression(normalize=True, n_jobs=-1)\n",
    "lin_reg.fit(X, y)"
   ]
  },
  {
   "cell_type": "code",
   "execution_count": null,
   "metadata": {},
   "outputs": [],
   "source": [
    "output_lin = lin_reg.predict(X_dev)\n",
    "mean_squared_error(y_dev, output_lin)"
   ]
  },
  {
   "cell_type": "markdown",
   "metadata": {},
   "source": [
    "## Support Vector Machine"
   ]
  },
  {
   "cell_type": "code",
   "execution_count": null,
   "metadata": {},
   "outputs": [],
   "source": [
    "regressor = SVR(kernel='rbf')\n",
    "regressor.fit(X,y)"
   ]
  },
  {
   "cell_type": "code",
   "execution_count": 69,
   "metadata": {},
   "outputs": [
    {
     "data": {
      "text/plain": [
       "4.0701298227461145"
      ]
     },
     "execution_count": 69,
     "metadata": {},
     "output_type": "execute_result"
    }
   ],
   "source": [
    "output = regressor.predict(data=X_dev)\n",
    "mean_squared_error(y_dev, output)"
   ]
  },
  {
   "cell_type": "markdown",
   "metadata": {},
   "source": [
    "## XGBoost + GridSearch"
   ]
  },
  {
   "cell_type": "code",
   "execution_count": null,
   "metadata": {},
   "outputs": [],
   "source": [
    "model = xgb.XGBRegressor(learning_rate = 0.02)\n",
    "\n",
    "parameters = {'nthread':[4], \n",
    "              'objective':['reg:linear'],\n",
    "              'learning_rate': [.03, 0.05, .07], #so called `eta` value\n",
    "              'max_depth': [5, 6, 7],\n",
    "              'min_child_weight': [4],\n",
    "              'silent': [1],\n",
    "              'subsample': [0.7],\n",
    "              'colsample_bytree': [0.7],\n",
    "              'n_estimators': [500]}\n",
    "\n",
    "xgb_grid = GridSearchCV(model,\n",
    "                        parameters,\n",
    "                        cv = 3,\n",
    "                        n_jobs = 5,\n",
    "                        verbose=True)\n",
    "\n",
    "xgb_grid.fit(x_train_full,\n",
    "         y_train_full)"
   ]
  },
  {
   "cell_type": "code",
   "execution_count": 83,
   "metadata": {},
   "outputs": [
    {
     "data": {
      "text/plain": [
       "3.535718939888991"
      ]
     },
     "execution_count": 83,
     "metadata": {},
     "output_type": "execute_result"
    }
   ],
   "source": [
    "out = xgb_grid.predict(X_dev)\n",
    "mean_squared_error(y_dev, out)"
   ]
  },
  {
   "cell_type": "markdown",
   "metadata": {},
   "source": [
    "## Inference"
   ]
  },
  {
   "cell_type": "code",
   "execution_count": 106,
   "metadata": {},
   "outputs": [],
   "source": [
    "test = pd.read_json('referate-test.json')\n",
    "test_embeddings = pd.read_json('referate-test-embeddings.json')\n",
    "X = test_embeddings['embeddings'].values\n",
    "X = np.array([np.array(x) for x in X])"
   ]
  },
  {
   "cell_type": "code",
   "execution_count": 107,
   "metadata": {},
   "outputs": [],
   "source": [
    "test['grade'] = lin_reg.predict(X)"
   ]
  },
  {
   "cell_type": "code",
   "execution_count": 108,
   "metadata": {},
   "outputs": [
    {
     "data": {
      "text/html": [
       "<div>\n",
       "<style scoped>\n",
       "    .dataframe tbody tr th:only-of-type {\n",
       "        vertical-align: middle;\n",
       "    }\n",
       "\n",
       "    .dataframe tbody tr th {\n",
       "        vertical-align: top;\n",
       "    }\n",
       "\n",
       "    .dataframe thead th {\n",
       "        text-align: right;\n",
       "    }\n",
       "</style>\n",
       "<table border=\"1\" class=\"dataframe\">\n",
       "  <thead>\n",
       "    <tr style=\"text-align: right;\">\n",
       "      <th></th>\n",
       "      <th>index</th>\n",
       "      <th>filename</th>\n",
       "      <th>text</th>\n",
       "      <th>category</th>\n",
       "      <th>grade</th>\n",
       "    </tr>\n",
       "  </thead>\n",
       "  <tbody>\n",
       "    <tr>\n",
       "      <th>0</th>\n",
       "      <td>1420</td>\n",
       "      <td>Referat Ultima noapte de dragoste, intaia noap...</td>\n",
       "      <td>Elemente de noutate in estetica romanului  Rom...</td>\n",
       "      <td>romana</td>\n",
       "      <td>7.106718</td>\n",
       "    </tr>\n",
       "    <tr>\n",
       "      <th>1</th>\n",
       "      <td>1549</td>\n",
       "      <td>Referat Stiluri de viata in Romania</td>\n",
       "      <td>AZTECI \\nAztecii au fost membrii uneia dintre ...</td>\n",
       "      <td>psihologie</td>\n",
       "      <td>7.969465</td>\n",
       "    </tr>\n",
       "    <tr>\n",
       "      <th>2</th>\n",
       "      <td>1265</td>\n",
       "      <td>Modernizare-turcia</td>\n",
       "      <td>Efortul de modernizare în Turcia în perioada i...</td>\n",
       "      <td>istorie</td>\n",
       "      <td>8.076013</td>\n",
       "    </tr>\n",
       "    <tr>\n",
       "      <th>3</th>\n",
       "      <td>5291</td>\n",
       "      <td>Luceafarul - Comentariu Var-1</td>\n",
       "      <td>LUCEAFĂRUL Despre felul cum s-a născut marele ...</td>\n",
       "      <td>romana</td>\n",
       "      <td>7.419366</td>\n",
       "    </tr>\n",
       "    <tr>\n",
       "      <th>4</th>\n",
       "      <td>791</td>\n",
       "      <td>Referat Scurta istorie a bombei</td>\n",
       "      <td>Bombele atomice lansate de catre Statele Unite...</td>\n",
       "      <td>istorie</td>\n",
       "      <td>7.542830</td>\n",
       "    </tr>\n",
       "    <tr>\n",
       "      <th>...</th>\n",
       "      <td>...</td>\n",
       "      <td>...</td>\n",
       "      <td>...</td>\n",
       "      <td>...</td>\n",
       "      <td>...</td>\n",
       "    </tr>\n",
       "    <tr>\n",
       "      <th>495</th>\n",
       "      <td>3591</td>\n",
       "      <td>Morometi</td>\n",
       "      <td>Morometii   \\n-Personaje principale \\n  -Parin...</td>\n",
       "      <td>romana</td>\n",
       "      <td>7.244297</td>\n",
       "    </tr>\n",
       "    <tr>\n",
       "      <th>496</th>\n",
       "      <td>5389</td>\n",
       "      <td>Padurea Spanzuratilor - Comentariu</td>\n",
       "      <td>Padurea spanzuratilor de Liviu Rebreanu \\nTema...</td>\n",
       "      <td>romana</td>\n",
       "      <td>7.534710</td>\n",
       "    </tr>\n",
       "    <tr>\n",
       "      <th>497</th>\n",
       "      <td>1496</td>\n",
       "      <td>Referat Marsul lui Radetzky</td>\n",
       "      <td>MARELE ZID CHINEZESC \\n         Constructie gi...</td>\n",
       "      <td>istorie</td>\n",
       "      <td>7.696005</td>\n",
       "    </tr>\n",
       "    <tr>\n",
       "      <th>498</th>\n",
       "      <td>911</td>\n",
       "      <td>Referat Ciresarii - Cavalerii florii de cires</td>\n",
       "      <td>A Z U G A                    Valea Prahovei a ...</td>\n",
       "      <td>romana</td>\n",
       "      <td>8.113847</td>\n",
       "    </tr>\n",
       "    <tr>\n",
       "      <th>499</th>\n",
       "      <td>5266</td>\n",
       "      <td>Constitutia</td>\n",
       "      <td>ISTORIA CONSTITUŢIONALĂ A ROMÂNIEI \\nParcurger...</td>\n",
       "      <td>istorie</td>\n",
       "      <td>7.801588</td>\n",
       "    </tr>\n",
       "  </tbody>\n",
       "</table>\n",
       "<p>500 rows × 5 columns</p>\n",
       "</div>"
      ],
      "text/plain": [
       "     index                                           filename  \\\n",
       "0     1420  Referat Ultima noapte de dragoste, intaia noap...   \n",
       "1     1549                Referat Stiluri de viata in Romania   \n",
       "2     1265                                 Modernizare-turcia   \n",
       "3     5291                      Luceafarul - Comentariu Var-1   \n",
       "4      791                    Referat Scurta istorie a bombei   \n",
       "..     ...                                                ...   \n",
       "495   3591                                           Morometi   \n",
       "496   5389                 Padurea Spanzuratilor - Comentariu   \n",
       "497   1496                        Referat Marsul lui Radetzky   \n",
       "498    911      Referat Ciresarii - Cavalerii florii de cires   \n",
       "499   5266                                        Constitutia   \n",
       "\n",
       "                                                  text    category     grade  \n",
       "0    Elemente de noutate in estetica romanului  Rom...      romana  7.106718  \n",
       "1    AZTECI \\nAztecii au fost membrii uneia dintre ...  psihologie  7.969465  \n",
       "2    Efortul de modernizare în Turcia în perioada i...     istorie  8.076013  \n",
       "3    LUCEAFĂRUL Despre felul cum s-a născut marele ...      romana  7.419366  \n",
       "4    Bombele atomice lansate de catre Statele Unite...     istorie  7.542830  \n",
       "..                                                 ...         ...       ...  \n",
       "495  Morometii   \\n-Personaje principale \\n  -Parin...      romana  7.244297  \n",
       "496  Padurea spanzuratilor de Liviu Rebreanu \\nTema...      romana  7.534710  \n",
       "497  MARELE ZID CHINEZESC \\n         Constructie gi...     istorie  7.696005  \n",
       "498  A Z U G A                    Valea Prahovei a ...      romana  8.113847  \n",
       "499  ISTORIA CONSTITUŢIONALĂ A ROMÂNIEI \\nParcurger...     istorie  7.801588  \n",
       "\n",
       "[500 rows x 5 columns]"
      ]
     },
     "execution_count": 108,
     "metadata": {},
     "output_type": "execute_result"
    }
   ],
   "source": [
    "test"
   ]
  },
  {
   "cell_type": "code",
   "execution_count": 109,
   "metadata": {},
   "outputs": [],
   "source": [
    "test.to_json('referate_test.json')"
   ]
  },
  {
   "cell_type": "markdown",
   "metadata": {},
   "source": [
    "## Neural Network (pure experiment)"
   ]
  },
  {
   "cell_type": "code",
   "execution_count": 133,
   "metadata": {},
   "outputs": [],
   "source": [
    "model = keras.Sequential([\n",
    "    keras.layers.Dense(512, input_dim = X.shape[1], kernel_initializer = 'normal', activation = 'relu'),\n",
    "    keras.layers.Dense(512, kernel_initializer = 'normal', activation = 'relu'),\n",
    "    keras.layers.Dense(256, activation = 'relu'),\n",
    "    keras.layers.Dense(256, activation = 'relu'),\n",
    "    keras.layers.Dense(128, kernel_initializer = 'normal', activation = 'relu'),\n",
    "    keras.layers.Dense(128, kernel_initializer = 'normal', activation = 'relu'),\n",
    "    keras.layers.Dense(64, kernel_initializer = 'normal', activation = 'relu'),\n",
    "    keras.layers.Dense(64, kernel_initializer = 'normal', activation = 'relu'),\n",
    "    keras.layers.Dropout(0.4),\n",
    "    keras.layers.Dense(1, kernel_initializer = 'normal', activation = 'linear')\n",
    "])"
   ]
  },
  {
   "cell_type": "code",
   "execution_count": 134,
   "metadata": {},
   "outputs": [
    {
     "name": "stdout",
     "output_type": "stream",
     "text": [
      "Model: \"sequential_5\"\n",
      "_________________________________________________________________\n",
      "Layer (type)                 Output Shape              Param #   \n",
      "=================================================================\n",
      "dense_50 (Dense)             (None, 512)               102912    \n",
      "_________________________________________________________________\n",
      "dense_51 (Dense)             (None, 512)               262656    \n",
      "_________________________________________________________________\n",
      "dense_52 (Dense)             (None, 256)               131328    \n",
      "_________________________________________________________________\n",
      "dense_53 (Dense)             (None, 256)               65792     \n",
      "_________________________________________________________________\n",
      "dense_54 (Dense)             (None, 128)               32896     \n",
      "_________________________________________________________________\n",
      "dense_55 (Dense)             (None, 128)               16512     \n",
      "_________________________________________________________________\n",
      "dense_56 (Dense)             (None, 64)                8256      \n",
      "_________________________________________________________________\n",
      "dense_57 (Dense)             (None, 64)                4160      \n",
      "_________________________________________________________________\n",
      "dropout_1 (Dropout)          (None, 64)                0         \n",
      "_________________________________________________________________\n",
      "dense_58 (Dense)             (None, 1)                 65        \n",
      "=================================================================\n",
      "Total params: 624,577\n",
      "Trainable params: 624,577\n",
      "Non-trainable params: 0\n",
      "_________________________________________________________________\n"
     ]
    }
   ],
   "source": [
    "model.summary()"
   ]
  },
  {
   "cell_type": "code",
   "execution_count": 157,
   "metadata": {},
   "outputs": [],
   "source": [
    "model.compile(loss='mean_squared_error', optimizer = keras.optimizers.Adam(learning_rate = 0.02), metrics=['mean_squared_error'])"
   ]
  },
  {
   "cell_type": "code",
   "execution_count": 158,
   "metadata": {},
   "outputs": [
    {
     "name": "stdout",
     "output_type": "stream",
     "text": [
      "Epoch 1/100\n",
      "74/74 [==============================] - 0s 4ms/step - loss: 3.0822 - mean_squared_error: 3.0822 - val_loss: 3.1733 - val_mean_squared_error: 3.1733\n",
      "Epoch 2/100\n",
      "74/74 [==============================] - 0s 4ms/step - loss: 3.0803 - mean_squared_error: 3.0803 - val_loss: 3.1625 - val_mean_squared_error: 3.1625\n",
      "Epoch 3/100\n",
      "74/74 [==============================] - 0s 4ms/step - loss: 3.0811 - mean_squared_error: 3.0811 - val_loss: 3.1647 - val_mean_squared_error: 3.1647\n",
      "Epoch 4/100\n",
      "74/74 [==============================] - 0s 4ms/step - loss: 3.0812 - mean_squared_error: 3.0812 - val_loss: 3.1654 - val_mean_squared_error: 3.1654\n",
      "Epoch 5/100\n",
      "74/74 [==============================] - 0s 4ms/step - loss: 3.0823 - mean_squared_error: 3.0823 - val_loss: 3.1703 - val_mean_squared_error: 3.1703\n",
      "Epoch 6/100\n",
      "74/74 [==============================] - 0s 4ms/step - loss: 3.0812 - mean_squared_error: 3.0812 - val_loss: 3.1660 - val_mean_squared_error: 3.1660\n",
      "Epoch 7/100\n",
      "74/74 [==============================] - 0s 4ms/step - loss: 3.0817 - mean_squared_error: 3.0817 - val_loss: 3.1778 - val_mean_squared_error: 3.1778\n",
      "Epoch 8/100\n",
      "74/74 [==============================] - 0s 4ms/step - loss: 3.0820 - mean_squared_error: 3.0820 - val_loss: 3.1721 - val_mean_squared_error: 3.1721\n",
      "Epoch 9/100\n",
      "74/74 [==============================] - 0s 4ms/step - loss: 3.0829 - mean_squared_error: 3.0829 - val_loss: 3.1625 - val_mean_squared_error: 3.1625\n",
      "Epoch 10/100\n",
      "74/74 [==============================] - 0s 5ms/step - loss: 3.0810 - mean_squared_error: 3.0810 - val_loss: 3.1633 - val_mean_squared_error: 3.1633\n",
      "Epoch 11/100\n",
      "74/74 [==============================] - 0s 4ms/step - loss: 3.0808 - mean_squared_error: 3.0808 - val_loss: 3.1689 - val_mean_squared_error: 3.1689\n",
      "Epoch 12/100\n",
      "74/74 [==============================] - 0s 4ms/step - loss: 3.0805 - mean_squared_error: 3.0805 - val_loss: 3.1619 - val_mean_squared_error: 3.1619\n",
      "Epoch 13/100\n",
      "74/74 [==============================] - 0s 4ms/step - loss: 3.0824 - mean_squared_error: 3.0824 - val_loss: 3.1631 - val_mean_squared_error: 3.1631\n",
      "Epoch 14/100\n",
      "74/74 [==============================] - 0s 4ms/step - loss: 3.0822 - mean_squared_error: 3.0822 - val_loss: 3.1622 - val_mean_squared_error: 3.1622\n",
      "Epoch 15/100\n",
      "74/74 [==============================] - 0s 4ms/step - loss: 3.0808 - mean_squared_error: 3.0808 - val_loss: 3.1679 - val_mean_squared_error: 3.1679\n",
      "Epoch 16/100\n",
      "74/74 [==============================] - 0s 4ms/step - loss: 3.0792 - mean_squared_error: 3.0792 - val_loss: 3.1618 - val_mean_squared_error: 3.1618\n",
      "Epoch 17/100\n",
      "74/74 [==============================] - 0s 4ms/step - loss: 3.0804 - mean_squared_error: 3.0804 - val_loss: 3.1626 - val_mean_squared_error: 3.1626\n",
      "Epoch 18/100\n",
      "74/74 [==============================] - 0s 4ms/step - loss: 3.0810 - mean_squared_error: 3.0810 - val_loss: 3.1719 - val_mean_squared_error: 3.1719\n",
      "Epoch 19/100\n",
      "74/74 [==============================] - 0s 4ms/step - loss: 3.0836 - mean_squared_error: 3.0836 - val_loss: 3.1625 - val_mean_squared_error: 3.1625\n",
      "Epoch 20/100\n",
      "74/74 [==============================] - 0s 5ms/step - loss: 3.0803 - mean_squared_error: 3.0803 - val_loss: 3.1622 - val_mean_squared_error: 3.1622\n",
      "Epoch 21/100\n",
      "74/74 [==============================] - 0s 4ms/step - loss: 3.0797 - mean_squared_error: 3.0797 - val_loss: 3.1620 - val_mean_squared_error: 3.1620\n",
      "Epoch 22/100\n",
      "74/74 [==============================] - 0s 4ms/step - loss: 3.0846 - mean_squared_error: 3.0846 - val_loss: 3.1629 - val_mean_squared_error: 3.1629\n",
      "Epoch 23/100\n",
      "74/74 [==============================] - 0s 4ms/step - loss: 3.0812 - mean_squared_error: 3.0812 - val_loss: 3.1857 - val_mean_squared_error: 3.1857\n",
      "Epoch 24/100\n",
      "74/74 [==============================] - 0s 4ms/step - loss: 3.0803 - mean_squared_error: 3.0803 - val_loss: 3.1621 - val_mean_squared_error: 3.1621\n",
      "Epoch 25/100\n",
      "74/74 [==============================] - 0s 4ms/step - loss: 3.0814 - mean_squared_error: 3.0814 - val_loss: 3.1631 - val_mean_squared_error: 3.1631\n",
      "Epoch 26/100\n",
      "74/74 [==============================] - 0s 4ms/step - loss: 3.0797 - mean_squared_error: 3.0797 - val_loss: 3.1846 - val_mean_squared_error: 3.1846\n",
      "Epoch 27/100\n",
      "74/74 [==============================] - 0s 4ms/step - loss: 3.0844 - mean_squared_error: 3.0844 - val_loss: 3.1620 - val_mean_squared_error: 3.1620\n",
      "Epoch 28/100\n",
      "74/74 [==============================] - 0s 4ms/step - loss: 3.0832 - mean_squared_error: 3.0832 - val_loss: 3.1620 - val_mean_squared_error: 3.1620\n",
      "Epoch 29/100\n",
      "74/74 [==============================] - 0s 4ms/step - loss: 3.0811 - mean_squared_error: 3.0811 - val_loss: 3.1754 - val_mean_squared_error: 3.1754\n",
      "Epoch 30/100\n",
      "74/74 [==============================] - 0s 4ms/step - loss: 3.0815 - mean_squared_error: 3.0815 - val_loss: 3.1629 - val_mean_squared_error: 3.1629\n",
      "Epoch 31/100\n",
      "74/74 [==============================] - 0s 4ms/step - loss: 3.0803 - mean_squared_error: 3.0803 - val_loss: 3.1668 - val_mean_squared_error: 3.1668\n",
      "Epoch 32/100\n",
      "74/74 [==============================] - 0s 4ms/step - loss: 3.0800 - mean_squared_error: 3.0800 - val_loss: 3.1665 - val_mean_squared_error: 3.1665\n",
      "Epoch 33/100\n",
      "74/74 [==============================] - 0s 4ms/step - loss: 3.0808 - mean_squared_error: 3.0808 - val_loss: 3.1636 - val_mean_squared_error: 3.1636\n",
      "Epoch 34/100\n",
      "74/74 [==============================] - 0s 4ms/step - loss: 3.0794 - mean_squared_error: 3.0794 - val_loss: 3.1624 - val_mean_squared_error: 3.1624\n",
      "Epoch 35/100\n",
      "74/74 [==============================] - 0s 4ms/step - loss: 3.0812 - mean_squared_error: 3.0812 - val_loss: 3.1666 - val_mean_squared_error: 3.1666\n",
      "Epoch 36/100\n",
      "74/74 [==============================] - 0s 4ms/step - loss: 3.0809 - mean_squared_error: 3.0809 - val_loss: 3.1689 - val_mean_squared_error: 3.1689\n",
      "Epoch 37/100\n",
      "74/74 [==============================] - 0s 4ms/step - loss: 3.0806 - mean_squared_error: 3.0806 - val_loss: 3.1625 - val_mean_squared_error: 3.1625\n",
      "Epoch 38/100\n",
      "74/74 [==============================] - 0s 4ms/step - loss: 3.0815 - mean_squared_error: 3.0815 - val_loss: 3.1694 - val_mean_squared_error: 3.1694\n",
      "Epoch 39/100\n",
      "74/74 [==============================] - 0s 4ms/step - loss: 3.0806 - mean_squared_error: 3.0806 - val_loss: 3.1630 - val_mean_squared_error: 3.1630\n",
      "Epoch 40/100\n",
      "74/74 [==============================] - 0s 4ms/step - loss: 3.0804 - mean_squared_error: 3.0804 - val_loss: 3.1687 - val_mean_squared_error: 3.1687\n",
      "Epoch 41/100\n",
      "74/74 [==============================] - 0s 5ms/step - loss: 3.0830 - mean_squared_error: 3.0830 - val_loss: 3.1631 - val_mean_squared_error: 3.1631\n",
      "Epoch 42/100\n",
      "74/74 [==============================] - 0s 5ms/step - loss: 3.0803 - mean_squared_error: 3.0803 - val_loss: 3.1760 - val_mean_squared_error: 3.1760\n",
      "Epoch 43/100\n",
      "74/74 [==============================] - 0s 4ms/step - loss: 3.0830 - mean_squared_error: 3.0830 - val_loss: 3.1660 - val_mean_squared_error: 3.1660\n",
      "Epoch 44/100\n",
      "74/74 [==============================] - 0s 4ms/step - loss: 3.0807 - mean_squared_error: 3.0807 - val_loss: 3.1634 - val_mean_squared_error: 3.1634\n",
      "Epoch 45/100\n",
      "74/74 [==============================] - 0s 4ms/step - loss: 3.0817 - mean_squared_error: 3.0817 - val_loss: 3.1717 - val_mean_squared_error: 3.1717\n",
      "Epoch 46/100\n",
      "74/74 [==============================] - 0s 4ms/step - loss: 3.0814 - mean_squared_error: 3.0814 - val_loss: 3.1660 - val_mean_squared_error: 3.1660\n",
      "Epoch 47/100\n",
      "74/74 [==============================] - 0s 4ms/step - loss: 3.0800 - mean_squared_error: 3.0800 - val_loss: 3.1642 - val_mean_squared_error: 3.1642\n",
      "Epoch 48/100\n",
      "74/74 [==============================] - 0s 4ms/step - loss: 3.0830 - mean_squared_error: 3.0830 - val_loss: 3.1619 - val_mean_squared_error: 3.1619\n",
      "Epoch 49/100\n",
      "74/74 [==============================] - 0s 4ms/step - loss: 3.0809 - mean_squared_error: 3.0809 - val_loss: 3.1641 - val_mean_squared_error: 3.1641\n",
      "Epoch 50/100\n",
      "74/74 [==============================] - 0s 4ms/step - loss: 3.0819 - mean_squared_error: 3.0819 - val_loss: 3.1639 - val_mean_squared_error: 3.1639\n",
      "Epoch 51/100\n",
      "74/74 [==============================] - 0s 4ms/step - loss: 3.0795 - mean_squared_error: 3.0795 - val_loss: 3.1703 - val_mean_squared_error: 3.1703\n",
      "Epoch 52/100\n",
      "74/74 [==============================] - 0s 4ms/step - loss: 3.0830 - mean_squared_error: 3.0830 - val_loss: 3.1635 - val_mean_squared_error: 3.1635\n",
      "Epoch 53/100\n",
      "74/74 [==============================] - 0s 4ms/step - loss: 3.0839 - mean_squared_error: 3.0839 - val_loss: 3.1660 - val_mean_squared_error: 3.1660\n",
      "Epoch 54/100\n",
      "74/74 [==============================] - 0s 4ms/step - loss: 3.0816 - mean_squared_error: 3.0816 - val_loss: 3.1671 - val_mean_squared_error: 3.1671\n",
      "Epoch 55/100\n",
      "74/74 [==============================] - 0s 4ms/step - loss: 3.0808 - mean_squared_error: 3.0808 - val_loss: 3.1621 - val_mean_squared_error: 3.1621\n",
      "Epoch 56/100\n",
      "74/74 [==============================] - 0s 5ms/step - loss: 3.0818 - mean_squared_error: 3.0818 - val_loss: 3.1649 - val_mean_squared_error: 3.1649\n",
      "Epoch 57/100\n",
      "74/74 [==============================] - 0s 4ms/step - loss: 3.0808 - mean_squared_error: 3.0808 - val_loss: 3.1619 - val_mean_squared_error: 3.1619\n",
      "Epoch 58/100\n",
      "74/74 [==============================] - 0s 4ms/step - loss: 3.0826 - mean_squared_error: 3.0826 - val_loss: 3.1632 - val_mean_squared_error: 3.1632\n",
      "Epoch 59/100\n",
      "74/74 [==============================] - 0s 4ms/step - loss: 3.0803 - mean_squared_error: 3.0803 - val_loss: 3.1624 - val_mean_squared_error: 3.1624\n",
      "Epoch 60/100\n",
      "74/74 [==============================] - 0s 4ms/step - loss: 3.0793 - mean_squared_error: 3.0793 - val_loss: 3.1706 - val_mean_squared_error: 3.1706\n",
      "Epoch 61/100\n",
      "74/74 [==============================] - 0s 4ms/step - loss: 3.0832 - mean_squared_error: 3.0832 - val_loss: 3.1707 - val_mean_squared_error: 3.1707\n",
      "Epoch 62/100\n",
      "74/74 [==============================] - 0s 4ms/step - loss: 3.0806 - mean_squared_error: 3.0806 - val_loss: 3.1622 - val_mean_squared_error: 3.1622\n",
      "Epoch 63/100\n",
      "74/74 [==============================] - 0s 4ms/step - loss: 3.0809 - mean_squared_error: 3.0809 - val_loss: 3.1628 - val_mean_squared_error: 3.1628\n",
      "Epoch 64/100\n",
      "74/74 [==============================] - 0s 4ms/step - loss: 3.0801 - mean_squared_error: 3.0801 - val_loss: 3.1665 - val_mean_squared_error: 3.1665\n",
      "Epoch 65/100\n",
      "74/74 [==============================] - 0s 4ms/step - loss: 3.0809 - mean_squared_error: 3.0809 - val_loss: 3.1630 - val_mean_squared_error: 3.1630\n",
      "Epoch 66/100\n",
      "74/74 [==============================] - 0s 4ms/step - loss: 3.0819 - mean_squared_error: 3.0819 - val_loss: 3.1641 - val_mean_squared_error: 3.1641\n",
      "Epoch 67/100\n",
      "74/74 [==============================] - 0s 4ms/step - loss: 3.0839 - mean_squared_error: 3.0839 - val_loss: 3.1765 - val_mean_squared_error: 3.1765\n",
      "Epoch 68/100\n",
      "74/74 [==============================] - 0s 4ms/step - loss: 3.0834 - mean_squared_error: 3.0834 - val_loss: 3.1619 - val_mean_squared_error: 3.1619\n",
      "Epoch 69/100\n",
      "74/74 [==============================] - 0s 4ms/step - loss: 3.0796 - mean_squared_error: 3.0796 - val_loss: 3.1652 - val_mean_squared_error: 3.1652\n",
      "Epoch 70/100\n",
      "74/74 [==============================] - 0s 4ms/step - loss: 3.0804 - mean_squared_error: 3.0804 - val_loss: 3.1638 - val_mean_squared_error: 3.1638\n",
      "Epoch 71/100\n",
      "74/74 [==============================] - 0s 4ms/step - loss: 3.0797 - mean_squared_error: 3.0797 - val_loss: 3.1629 - val_mean_squared_error: 3.1629\n",
      "Epoch 72/100\n",
      "74/74 [==============================] - 0s 4ms/step - loss: 3.0813 - mean_squared_error: 3.0813 - val_loss: 3.1663 - val_mean_squared_error: 3.1663\n",
      "Epoch 73/100\n",
      "74/74 [==============================] - 0s 4ms/step - loss: 3.0810 - mean_squared_error: 3.0810 - val_loss: 3.1658 - val_mean_squared_error: 3.1658\n",
      "Epoch 74/100\n",
      "74/74 [==============================] - 0s 4ms/step - loss: 3.0809 - mean_squared_error: 3.0809 - val_loss: 3.1621 - val_mean_squared_error: 3.1621\n",
      "Epoch 75/100\n",
      "74/74 [==============================] - 0s 4ms/step - loss: 3.0828 - mean_squared_error: 3.0828 - val_loss: 3.1642 - val_mean_squared_error: 3.1642\n",
      "Epoch 76/100\n",
      "74/74 [==============================] - 0s 4ms/step - loss: 3.0828 - mean_squared_error: 3.0828 - val_loss: 3.1662 - val_mean_squared_error: 3.1662\n",
      "Epoch 77/100\n",
      "74/74 [==============================] - 0s 4ms/step - loss: 3.0806 - mean_squared_error: 3.0806 - val_loss: 3.1627 - val_mean_squared_error: 3.1627\n",
      "Epoch 78/100\n",
      "74/74 [==============================] - 0s 4ms/step - loss: 3.0823 - mean_squared_error: 3.0823 - val_loss: 3.1635 - val_mean_squared_error: 3.1635\n",
      "Epoch 79/100\n",
      "74/74 [==============================] - 0s 4ms/step - loss: 3.0791 - mean_squared_error: 3.0791 - val_loss: 3.1622 - val_mean_squared_error: 3.1622\n",
      "Epoch 80/100\n",
      "74/74 [==============================] - 0s 4ms/step - loss: 3.0848 - mean_squared_error: 3.0848 - val_loss: 3.1626 - val_mean_squared_error: 3.1626\n",
      "Epoch 81/100\n",
      "74/74 [==============================] - 0s 4ms/step - loss: 3.0833 - mean_squared_error: 3.0833 - val_loss: 3.1619 - val_mean_squared_error: 3.1619\n",
      "Epoch 82/100\n",
      "74/74 [==============================] - 0s 4ms/step - loss: 3.0810 - mean_squared_error: 3.0810 - val_loss: 3.1651 - val_mean_squared_error: 3.1651\n",
      "Epoch 83/100\n",
      "74/74 [==============================] - 0s 4ms/step - loss: 3.0823 - mean_squared_error: 3.0823 - val_loss: 3.1671 - val_mean_squared_error: 3.1671\n",
      "Epoch 84/100\n",
      "74/74 [==============================] - 0s 4ms/step - loss: 3.0799 - mean_squared_error: 3.0799 - val_loss: 3.1701 - val_mean_squared_error: 3.1701\n",
      "Epoch 85/100\n",
      "74/74 [==============================] - 0s 4ms/step - loss: 3.0803 - mean_squared_error: 3.0803 - val_loss: 3.1829 - val_mean_squared_error: 3.1829\n",
      "Epoch 86/100\n",
      "74/74 [==============================] - 0s 4ms/step - loss: 3.0826 - mean_squared_error: 3.0826 - val_loss: 3.1636 - val_mean_squared_error: 3.1636\n",
      "Epoch 87/100\n",
      "74/74 [==============================] - 0s 4ms/step - loss: 3.0810 - mean_squared_error: 3.0810 - val_loss: 3.1654 - val_mean_squared_error: 3.1654\n",
      "Epoch 88/100\n",
      "74/74 [==============================] - 0s 5ms/step - loss: 3.0828 - mean_squared_error: 3.0828 - val_loss: 3.1623 - val_mean_squared_error: 3.1623\n",
      "Epoch 89/100\n",
      "74/74 [==============================] - 0s 4ms/step - loss: 3.0801 - mean_squared_error: 3.0801 - val_loss: 3.1693 - val_mean_squared_error: 3.1693\n",
      "Epoch 90/100\n",
      "74/74 [==============================] - 0s 4ms/step - loss: 3.0806 - mean_squared_error: 3.0806 - val_loss: 3.1619 - val_mean_squared_error: 3.1619\n",
      "Epoch 91/100\n",
      "74/74 [==============================] - 0s 4ms/step - loss: 3.0814 - mean_squared_error: 3.0814 - val_loss: 3.1625 - val_mean_squared_error: 3.1625\n",
      "Epoch 92/100\n",
      "74/74 [==============================] - 0s 4ms/step - loss: 3.0809 - mean_squared_error: 3.0809 - val_loss: 3.1644 - val_mean_squared_error: 3.1644\n",
      "Epoch 93/100\n",
      "74/74 [==============================] - 0s 4ms/step - loss: 3.0803 - mean_squared_error: 3.0803 - val_loss: 3.1622 - val_mean_squared_error: 3.1622\n",
      "Epoch 94/100\n",
      "74/74 [==============================] - 0s 4ms/step - loss: 3.0813 - mean_squared_error: 3.0813 - val_loss: 3.1723 - val_mean_squared_error: 3.1723\n",
      "Epoch 95/100\n",
      "74/74 [==============================] - 0s 4ms/step - loss: 3.0820 - mean_squared_error: 3.0820 - val_loss: 3.1714 - val_mean_squared_error: 3.1714\n",
      "Epoch 96/100\n",
      "74/74 [==============================] - 0s 4ms/step - loss: 3.0795 - mean_squared_error: 3.0795 - val_loss: 3.1769 - val_mean_squared_error: 3.1769\n",
      "Epoch 97/100\n",
      "74/74 [==============================] - 0s 4ms/step - loss: 3.0763 - mean_squared_error: 3.0763 - val_loss: 3.1645 - val_mean_squared_error: 3.1645\n",
      "Epoch 98/100\n",
      "74/74 [==============================] - 0s 5ms/step - loss: 3.0832 - mean_squared_error: 3.0832 - val_loss: 3.1623 - val_mean_squared_error: 3.1623\n",
      "Epoch 99/100\n",
      "74/74 [==============================] - 0s 4ms/step - loss: 3.0822 - mean_squared_error: 3.0822 - val_loss: 3.1620 - val_mean_squared_error: 3.1620\n",
      "Epoch 100/100\n",
      "74/74 [==============================] - 0s 4ms/step - loss: 3.0808 - mean_squared_error: 3.0808 - val_loss: 3.1812 - val_mean_squared_error: 3.1812\n"
     ]
    }
   ],
   "source": [
    "history = model.fit(x_scaled, y, epochs = 100, batch_size = 64, validation_data = (x_val_scaled, y_dev))"
   ]
  },
  {
   "cell_type": "code",
   "execution_count": 160,
   "metadata": {},
   "outputs": [
    {
     "data": {
      "text/plain": [
       "[<matplotlib.lines.Line2D at 0x7f2a32579f70>]"
      ]
     },
     "execution_count": 160,
     "metadata": {},
     "output_type": "execute_result"
    },
    {
     "data": {
      "image/png": "[encoded data removed]",
      "text/plain": [
       "<Figure size 432x288 with 1 Axes>"
      ]
     },
     "metadata": {
      "needs_background": "light"
     },
     "output_type": "display_data"
    }
   ],
   "source": [
    "plt.plot(history.history['loss'])"
   ]
  },
  {
   "cell_type": "code",
   "execution_count": 149,
   "metadata": {},
   "outputs": [],
   "source": [
    "o = model.predict(X_dev)"
   ]
  },
  {
   "cell_type": "code",
   "execution_count": 61,
   "metadata": {},
   "outputs": [],
   "source": [
    "o[o > 10] = 10"
   ]
  },
  {
   "cell_type": "code",
   "execution_count": 145,
   "metadata": {},
   "outputs": [],
   "source": [
    "from sklearn.preprocessing import MinMaxScaler\n",
    "scaler_x = MinMaxScaler()\n",
    "scaler_x.fit(X)\n",
    "x_scaled = scaler_x.transform(X)\n",
    "x_val_scaled = scaler_x.transform(X_dev)"
   ]
  }
 ],
 "metadata": {
  "kernelspec": {
   "display_name": "Python 3",
   "language": "python",
   "name": "python3"
  },
  "language_info": {
   "codemirror_mode": {
    "name": "ipython",
    "version": 3
   },
   "file_extension": ".py",
   "mimetype": "text/x-python",
   "name": "python",
   "nbconvert_exporter": "python",
   "pygments_lexer": "ipython3",
   "version": "3.8.5"
  }
 },
 "nbformat": 4,
 "nbformat_minor": 4
}
